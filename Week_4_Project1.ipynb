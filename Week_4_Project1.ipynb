{
 "cells": [
  {
   "cell_type": "markdown",
   "metadata": {},
   "source": [
    "# <center><font color='blue'>IS 362 Project 1 2020 Fall<center><font>"
   ]
  },
  {
   "cell_type": "code",
   "execution_count": 4,
   "metadata": {},
   "outputs": [],
   "source": [
    "import pandas as pd\n",
    "import os"
   ]
  },
  {
   "cell_type": "markdown",
   "metadata": {},
   "source": [
    "### <font color='blue'>Project Objective<br><font>\n",
    "    \n",
    "(1) Create a .CSV file (or optionally, a MySQL database!) that all of the information in the table. You may change the structure of the information as you like.\n",
    "\n",
    "(2) Read the information from you .CSV file into pandas, and perform analysis to compare the arrival delays for the two airlines\n",
    "\n",
    "(3) Your code should be in a Jupyter (IPython) notebook (in GitHub), and should include narrative descriptions of your analysis and conclusions.\n",
    "\n"
   ]
  },
  {
   "cell_type": "code",
   "execution_count": 17,
   "metadata": {},
   "outputs": [],
   "source": [
    "Alaska_On_Time = pd.read_csv(r'C:\\Users\\MATTHEWS-PC\\Project1.csv', index_col = 0)"
   ]
  },
  {
   "cell_type": "code",
   "execution_count": 16,
   "metadata": {},
   "outputs": [
    {
     "data": {
      "text/html": [
       "<div>\n",
       "<style scoped>\n",
       "    .dataframe tbody tr th:only-of-type {\n",
       "        vertical-align: middle;\n",
       "    }\n",
       "\n",
       "    .dataframe tbody tr th {\n",
       "        vertical-align: top;\n",
       "    }\n",
       "\n",
       "    .dataframe thead th {\n",
       "        text-align: right;\n",
       "    }\n",
       "</style>\n",
       "<table border=\"1\" class=\"dataframe\">\n",
       "  <thead>\n",
       "    <tr style=\"text-align: right;\">\n",
       "      <th></th>\n",
       "      <th>City</th>\n",
       "      <th>Alaska_On_Time</th>\n",
       "      <th>Alaska_Delayed</th>\n",
       "      <th>AMWest_On_Time</th>\n",
       "      <th>AMWest_Delayed</th>\n",
       "    </tr>\n",
       "  </thead>\n",
       "  <tbody>\n",
       "    <tr>\n",
       "      <th>0</th>\n",
       "      <td>Los Angeles</td>\n",
       "      <td>497</td>\n",
       "      <td>62</td>\n",
       "      <td>694</td>\n",
       "      <td>117</td>\n",
       "    </tr>\n",
       "    <tr>\n",
       "      <th>1</th>\n",
       "      <td>Phoenix</td>\n",
       "      <td>221</td>\n",
       "      <td>12</td>\n",
       "      <td>4840</td>\n",
       "      <td>415</td>\n",
       "    </tr>\n",
       "    <tr>\n",
       "      <th>2</th>\n",
       "      <td>San Diego</td>\n",
       "      <td>212</td>\n",
       "      <td>20</td>\n",
       "      <td>383</td>\n",
       "      <td>65</td>\n",
       "    </tr>\n",
       "    <tr>\n",
       "      <th>3</th>\n",
       "      <td>San Francisco</td>\n",
       "      <td>503</td>\n",
       "      <td>102</td>\n",
       "      <td>320</td>\n",
       "      <td>129</td>\n",
       "    </tr>\n",
       "    <tr>\n",
       "      <th>4</th>\n",
       "      <td>Seattle</td>\n",
       "      <td>1841</td>\n",
       "      <td>305</td>\n",
       "      <td>201</td>\n",
       "      <td>61</td>\n",
       "    </tr>\n",
       "  </tbody>\n",
       "</table>\n",
       "</div>"
      ],
      "text/plain": [
       "            City  Alaska_On_Time  Alaska_Delayed  AMWest_On_Time  \\\n",
       "0    Los Angeles             497              62             694   \n",
       "1        Phoenix             221              12            4840   \n",
       "2      San Diego             212              20             383   \n",
       "3  San Francisco             503             102             320   \n",
       "4        Seattle            1841             305             201   \n",
       "\n",
       "   AMWest_Delayed  \n",
       "0             117  \n",
       "1             415  \n",
       "2              65  \n",
       "3             129  \n",
       "4              61  "
      ]
     },
     "execution_count": 16,
     "metadata": {},
     "output_type": "execute_result"
    }
   ],
   "source": [
    "Alaska_On_Time.head()"
   ]
  },
  {
   "cell_type": "code",
   "execution_count": 13,
   "metadata": {},
   "outputs": [
    {
     "ename": "NameError",
     "evalue": "name 'airline_info' is not defined",
     "output_type": "error",
     "traceback": [
      "\u001b[1;31m---------------------------------------------------------------------------\u001b[0m",
      "\u001b[1;31mNameError\u001b[0m                                 Traceback (most recent call last)",
      "\u001b[1;32m<ipython-input-13-f9ed8a967ac9>\u001b[0m in \u001b[0;36m<module>\u001b[1;34m\u001b[0m\n\u001b[1;32m----> 1\u001b[1;33m \u001b[0mairline_info\u001b[0m\u001b[1;33m[\u001b[0m\u001b[1;34m'TotalAlaskaArrivals'\u001b[0m\u001b[1;33m]\u001b[0m \u001b[1;33m=\u001b[0m \u001b[0mairline_info\u001b[0m\u001b[1;33m[\u001b[0m\u001b[1;34m'AlaskaOnTime'\u001b[0m\u001b[1;33m]\u001b[0m \u001b[1;33m+\u001b[0m \u001b[0mairline_info\u001b[0m\u001b[1;33m[\u001b[0m\u001b[1;34m'AlaskaDelay'\u001b[0m\u001b[1;33m]\u001b[0m\u001b[1;33m\u001b[0m\u001b[1;33m\u001b[0m\u001b[0m\n\u001b[0m\u001b[0;32m      2\u001b[0m \u001b[1;33m\u001b[0m\u001b[0m\n\u001b[0;32m      3\u001b[0m \u001b[0mairline_info\u001b[0m\u001b[1;33m[\u001b[0m\u001b[1;34m'AlaskaPercentagesOfDelay'\u001b[0m\u001b[1;33m]\u001b[0m \u001b[1;33m=\u001b[0m \u001b[1;33m(\u001b[0m\u001b[0mairline_info\u001b[0m\u001b[1;33m[\u001b[0m\u001b[1;34m'AlaskaDelay'\u001b[0m\u001b[1;33m]\u001b[0m \u001b[1;33m/\u001b[0m \u001b[0mairline_info\u001b[0m\u001b[1;33m[\u001b[0m\u001b[1;34m'TotalAlaskaArrivals'\u001b[0m\u001b[1;33m]\u001b[0m\u001b[1;33m)\u001b[0m \u001b[1;33m*\u001b[0m \u001b[1;36m100\u001b[0m\u001b[1;33m\u001b[0m\u001b[1;33m\u001b[0m\u001b[0m\n\u001b[0;32m      4\u001b[0m \u001b[1;33m\u001b[0m\u001b[0m\n\u001b[0;32m      5\u001b[0m \u001b[0mairline_info\u001b[0m\u001b[1;33m[\u001b[0m\u001b[1;34m'AlaskaPercentagesOfDelay'\u001b[0m\u001b[1;33m]\u001b[0m\u001b[1;33m\u001b[0m\u001b[1;33m\u001b[0m\u001b[0m\n",
      "\u001b[1;31mNameError\u001b[0m: name 'airline_info' is not defined"
     ]
    }
   ],
   "source": [
    "airline_info['TotalAlaskaArrivals'] = airline_info['AlaskaOnTime'] + airline_info['AlaskaDelay']\n",
    "\n",
    "airline_info['AlaskaPercentagesOfDelay'] = (airline_info['AlaskaDelay'] / airline_info['TotalAlaskaArrivals']) * 100\n",
    "\n",
    "airline_info['AlaskaPercentagesOfDelay']"
   ]
  },
  {
   "cell_type": "code",
   "execution_count": 11,
   "metadata": {},
   "outputs": [
    {
     "ename": "SyntaxError",
     "evalue": "EOL while scanning string literal (<ipython-input-11-89bfc0bca370>, line 8)",
     "output_type": "error",
     "traceback": [
      "\u001b[1;36m  File \u001b[1;32m\"<ipython-input-11-89bfc0bca370>\"\u001b[1;36m, line \u001b[1;32m8\u001b[0m\n\u001b[1;33m    \"airline_arrival_info['Alaska_Percentages_Of_Delay']\u001b[0m\n\u001b[1;37m                                                        ^\u001b[0m\n\u001b[1;31mSyntaxError\u001b[0m\u001b[1;31m:\u001b[0m EOL while scanning string literal\n"
     ]
    }
   ],
   "source": [
    "[\n",
    "    \"#Alaska arrival delay percentage will be based on the sum of Alaska Arrivals in each city and than divided by the city's delay arrival.\\n\",\n",
    "    \"\\n\",\n",
    "    \"airline_arrival_info['Total_Alaska_Arrivals'] = airline_arrival_info['Alaska_On_Time'] + airline_arrival_info['Alaska_Delayed']\\n\",\n",
    "    \"\\n\",\n",
    "    \"airline_arrival_info['Alaska_Percentages_Of_Delay'] = (airline_arrival_info['Alaska_Delayed'] / airline_arrival_info['Total_Alaska_Arrivals']) * 100\\n\",\n",
    "    \"\\n\",\n",
    "    \"airline_arrival_info['Alaska_Percentages_Of_Delay']"
   ]
  },
  {
   "cell_type": "code",
   "execution_count": null,
   "metadata": {},
   "outputs": [],
   "source": []
  },
  {
   "cell_type": "code",
   "execution_count": null,
   "metadata": {},
   "outputs": [],
   "source": []
  },
  {
   "cell_type": "code",
   "execution_count": null,
   "metadata": {},
   "outputs": [],
   "source": []
  },
  {
   "cell_type": "code",
   "execution_count": null,
   "metadata": {},
   "outputs": [],
   "source": []
  }
 ],
 "metadata": {
  "kernelspec": {
   "display_name": "Python 3",
   "language": "python",
   "name": "python3"
  },
  "language_info": {
   "codemirror_mode": {
    "name": "ipython",
    "version": 3
   },
   "file_extension": ".py",
   "mimetype": "text/x-python",
   "name": "python",
   "nbconvert_exporter": "python",
   "pygments_lexer": "ipython3",
   "version": "3.8.3"
  }
 },
 "nbformat": 4,
 "nbformat_minor": 4
}
